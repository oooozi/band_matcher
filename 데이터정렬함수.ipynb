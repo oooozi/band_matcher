{
  "nbformat": 4,
  "nbformat_minor": 0,
  "metadata": {
    "colab": {
      "provenance": [],
      "collapsed_sections": [
        "KGEcMwvcGNB6",
        "Qw4_Cl12f2uH"
      ]
    },
    "kernelspec": {
      "name": "python3",
      "display_name": "Python 3"
    },
    "language_info": {
      "name": "python"
    }
  },
  "cells": [
    {
      "cell_type": "markdown",
      "source": [
        "# 데이터 입력 함수"
      ],
      "metadata": {
        "id": "L4Ox7ihW7TEK"
      }
    },
    {
      "cell_type": "code",
      "source": [],
      "metadata": {
        "id": "gP9QDM707a4O"
      },
      "execution_count": null,
      "outputs": []
    },
    {
      "cell_type": "markdown",
      "source": [
        "# 날짜별 - 인원수 기준 & 가중치\n"
      ],
      "metadata": {
        "id": "KGEcMwvcGNB6"
      }
    },
    {
      "cell_type": "code",
      "execution_count": null,
      "metadata": {
        "colab": {
          "base_uri": "https://localhost:8080/",
          "height": 70
        },
        "id": "-5KedlfrmKyD",
        "outputId": "b0ee27d2-4602-4ec3-a5b9-177d7f12b73a"
      },
      "outputs": [
        {
          "output_type": "execute_result",
          "data": {
            "text/plain": [
              "'\\n오지원 - 가능한시간, (세션,곡)\\n\\n1. 곡을 쓰고\\n2. 세션 칸에 이름 적기\\n3. 시간까지\\n\\n4. 시간의 교집합 개수 - len 길이로\\n5. len 길이 같을 때 : 드럼(16) > 기타1(8) > 보컬(4) > 베이스(2)=기타2(2) > 건반(1)\\n'"
            ],
            "application/vnd.google.colaboratory.intrinsic+json": {
              "type": "string"
            }
          },
          "metadata": {},
          "execution_count": 1
        }
      ],
      "source": [
        "song_sessions = {\n",
        "    'Violet': {'보컬': '오지원','기타1' : '윤진경', '기타2': '오지원', '베이스':'신정현','드럼': '박수빈'},\n",
        "    'ride': {'보컬': '곽민욱','기타1' : '손호유', '기타2': '곽민욱', '베이스':'신정현','드럼': '박수빈'}\n",
        "}\n",
        "\n",
        "from datetime import date, datetime, timedelta\n",
        "\n",
        "persons_availability = {\n",
        "    '오지원': [date(2025, 5, 13)],\n",
        "    '곽민욱': [date(2025, 5, 15)],\n",
        "    '손호유': [date(2025, 5, 13)],\n",
        "    '윤진경': [date(2025, 5, 13),date(2025, 5, 15)],\n",
        "    '박수빈': [date(2025, 5, 15)],\n",
        "    '신정현': [date(2025, 5, 13)]\n",
        "}\n",
        "\n",
        "base_schedule = [date(2025, 5, 13), date(2025, 5, 14), date(2025, 5, 15)]\n",
        "\n",
        "session_weight = {\n",
        "    '드럼': 16,\n",
        "    '기타1': 8,\n",
        "    '보컬': 4,\n",
        "    '베이스': 2,\n",
        "    '기타2': 2,\n",
        "    '건반': 1\n",
        "}\n"
      ]
    },
    {
      "cell_type": "code",
      "source": [
        "person_role = {}\n",
        "\n",
        "for song, sessions in song_sessions.items():\n",
        "    for session, name in sessions.items():\n",
        "        if name not in person_role:\n",
        "            person_role[name] = []\n",
        "        person_role[name].append((song, session))\n",
        "print(person_role)"
      ],
      "metadata": {
        "colab": {
          "base_uri": "https://localhost:8080/"
        },
        "id": "Wbp8bC6hwqIe",
        "outputId": "61da3f62-8dbe-4e43-899f-e64a2c65b08d"
      },
      "execution_count": null,
      "outputs": [
        {
          "output_type": "stream",
          "name": "stdout",
          "text": [
            "{'오지원': [('Violet', '보컬'), ('Violet', '기타2')], '윤진경': [('Violet', '기타1')], '신정현': [('Violet', '베이스'), ('ride', '베이스')], '박수빈': [('Violet', '드럼'), ('ride', '드럼')], '곽민욱': [('ride', '보컬'), ('ride', '기타2')], '손호유': [('ride', '기타1')]}\n"
          ]
        }
      ]
    },
    {
      "cell_type": "code",
      "source": [
        "# class Person 만들기\n",
        "# 속성: name, role, available_time\n",
        "\n",
        "class Person:\n",
        "  def __init__(self, name):\n",
        "    self.name = name\n",
        "    self.available_time = persons_availability[name]\n",
        "    self.role = person_role[name]\n",
        "\n",
        "  def print_person(self):\n",
        "    print(self.available_time)\n",
        "    print(self.role)\n",
        "\n",
        "\n",
        "people = []\n",
        "\n",
        "for name, _ in person_role.items():\n",
        "  if name not in people:\n",
        "    people.append(Person(name))\n",
        "\n",
        "for person in people:\n",
        "  print(person.name)\n",
        "  print(person.role)"
      ],
      "metadata": {
        "colab": {
          "base_uri": "https://localhost:8080/"
        },
        "id": "7ZLWRu5Lw2of",
        "outputId": "b428b236-4531-4b91-d7b4-ea339edb40f3"
      },
      "execution_count": null,
      "outputs": [
        {
          "output_type": "stream",
          "name": "stdout",
          "text": [
            "오지원\n",
            "[('Violet', '보컬'), ('Violet', '기타2')]\n",
            "윤진경\n",
            "[('Violet', '기타1')]\n",
            "신정현\n",
            "[('Violet', '베이스'), ('ride', '베이스')]\n",
            "박수빈\n",
            "[('Violet', '드럼'), ('ride', '드럼')]\n",
            "곽민욱\n",
            "[('ride', '보컬'), ('ride', '기타2')]\n",
            "손호유\n",
            "[('ride', '기타1')]\n"
          ]
        }
      ]
    },
    {
      "cell_type": "code",
      "source": [
        "from collections import defaultdict\n",
        "\n",
        "def Date_Find():\n",
        "  people_of_date = defaultdict(list)     # 공통되는 날짜 찾기\n",
        "\n",
        "  for date in base_schedule:\n",
        "    people_of_date[date] = []\n",
        "    for person in people:\n",
        "      if date in person.available_time:\n",
        "        people_of_date[date].append((person.name, person.role))     # 만약에 여기서 시간에 해당하는 이름만 뽑고 싶다면 append(person.name)으로 수정\n",
        "\n",
        "  max_len = max(len(amount) for amount in people_of_date.values())\n",
        "  fixed_date = [date for date, amount in people_of_date.items() if len(amount) == max_len]\n",
        "\n",
        "  people_of_date = {date: val for date, val in people_of_date.items() if date in fixed_date}    # 전체 people_of_date에서 공통되는 시간들만 추출하기\n",
        "\n",
        "  return people_of_date\n",
        "\n",
        "\n",
        "'''\n",
        "  people_of_date = {\n",
        "    '2025-05-13': [('오지원', [('Violet', '보컬'), ('Violet', '세컨기타')]),\n",
        "                   ('윤진경', [('Violet', '리드기타')]),\n",
        "                   ('신정현', [('Violet', '베이스'), ('ride', '베이스')]),\n",
        "                   ('손호유', [('ride', '리드기타')])],\n",
        "    '2025-05-15': [('오지원', [('Violet', '보컬'), ('Violet', '세컨기타')]),\n",
        "                   ('윤진경', [('Violet', '리드기타')]),\n",
        "                   ('박수빈', [('Violet', '드럼'), ('ride', '드럼')]),\n",
        "                   ('곽민욱', [('ride', '보컬'), ('ride', '세컨기타')])]\n",
        "  }\n",
        "'''\n",
        "\n",
        "\n",
        "\n",
        "Date_Find()"
      ],
      "metadata": {
        "colab": {
          "base_uri": "https://localhost:8080/"
        },
        "id": "RUk9LDdMyHXF",
        "outputId": "0df9d3b3-6aa3-4384-b0c5-85734842fd0e"
      },
      "execution_count": null,
      "outputs": [
        {
          "output_type": "execute_result",
          "data": {
            "text/plain": [
              "{datetime.date(2025, 5, 13): [('오지원', [('Violet', '보컬'), ('Violet', '기타2')]),\n",
              "  ('윤진경', [('Violet', '기타1')]),\n",
              "  ('신정현', [('Violet', '베이스'), ('ride', '베이스')]),\n",
              "  ('손호유', [('ride', '기타1')])]}"
            ]
          },
          "metadata": {},
          "execution_count": 4
        }
      ]
    },
    {
      "cell_type": "code",
      "source": [
        "def Date_Find_weighted():\n",
        "  people_of_date = defaultdict(list)\n",
        "\n",
        "  for date in base_schedule:\n",
        "        for person in people:\n",
        "            if date in person.available_time:\n",
        "                people_of_date[date].append((person.name, person.role))\n",
        "\n",
        "  # 날짜별 가중치 계산\n",
        "  weight_by_date = {\n",
        "        date: sum(\n",
        "            session_weight.get(role, 0)\n",
        "            for _, roles in val\n",
        "            for _, role in roles\n",
        "            )\n",
        "        for date, val in people_of_date.items()\n",
        "    }\n",
        "\n",
        "  # (날짜, 가중치) 튜플 리스트를 가중치 기준으로 내림차순 정렬\n",
        "  sorted_by_weight = sorted(weight_by_date.items(), key=lambda x: x[1], reverse=True)\n",
        "\n",
        "  return sorted_by_weight\n",
        "\n",
        "\n",
        "Date_Find_weighted()"
      ],
      "metadata": {
        "colab": {
          "base_uri": "https://localhost:8080/"
        },
        "id": "jAZOtW2K1zCG",
        "outputId": "b5a9598a-6d24-4071-9309-8795b2a25ed8"
      },
      "execution_count": null,
      "outputs": [
        {
          "output_type": "execute_result",
          "data": {
            "text/plain": [
              "[(datetime.date(2025, 5, 15), 46), (datetime.date(2025, 5, 13), 26)]"
            ]
          },
          "metadata": {},
          "execution_count": 8
        }
      ]
    },
    {
      "cell_type": "markdown",
      "source": [
        "# 타임테이블 - 인원수 기준"
      ],
      "metadata": {
        "id": "wxPisc4qGSDn"
      }
    },
    {
      "cell_type": "code",
      "source": [
        "\"\"\"\n",
        "2025-05-13 오지의 제안:\n",
        "합주할 시간 정하는 함수 외에,\n",
        "합주할 시간을 정한 후 합주곡 타임테이블을 짜는 함수도 만들면 좋을 듯\n",
        "\n",
        "1번째 함수: 합주할 시간을 정하는 함수\n",
        "2번째 함수: 합주할 시간을 정한 후 합주곡 타임테이블을 짜는 함수\n",
        "3번째 함수: 여러 개의 합주실을 빌렸을 때 합주곡 타임테이블 짜기\n",
        "\"\"\""
      ],
      "metadata": {
        "id": "_-C88iwnPUmS",
        "colab": {
          "base_uri": "https://localhost:8080/",
          "height": 52
        },
        "outputId": "b79ecb68-ddb9-4e28-9303-a6022820c179"
      },
      "execution_count": null,
      "outputs": [
        {
          "output_type": "execute_result",
          "data": {
            "text/plain": [
              "'\\n2025-05-13 오지의 제안:\\n합주할 시간 정하는 함수 외에,\\n합주할 시간을 정한 후 합주곡 타임테이블을 짜는 함수도 만들면 좋을 듯\\n\\n1번째 함수: 합주할 시간을 정하는 함수\\n2번째 함수: 합주할 시간을 정한 후 합주곡 타임테이블을 짜는 함수\\n3번째 함수: 여러 개의 합주실을 빌렸을 때 합주곡 타임테이블 짜기\\n'"
            ],
            "application/vnd.google.colaboratory.intrinsic+json": {
              "type": "string"
            }
          },
          "metadata": {},
          "execution_count": 1
        }
      ]
    },
    {
      "cell_type": "code",
      "source": [
        "song_sessions = {\n",
        "    'Violet': {'보컬': '오지원','기타1' : '윤진경', '기타2': '오지원', '베이스':'신정현','드럼': '박수빈'},\n",
        "    'ride': {'보컬': '곽민욱','기타1' : '손호유', '기타2': '곽민욱', '베이스':'신정현','드럼': '박수빈'}\n",
        "}\n",
        "\n",
        "\n",
        "session_weight = {\n",
        "    '드럼': 16,\n",
        "    '기타1': 8,\n",
        "    '보컬': 4,\n",
        "    '베이스': 2,\n",
        "    '기타2': 2,\n",
        "    '건반': 1\n",
        "}\n"
      ],
      "metadata": {
        "id": "jcEnFnSpGYqi"
      },
      "execution_count": null,
      "outputs": []
    },
    {
      "cell_type": "code",
      "source": [
        "# songs_sessions를 person_role로 바꿈\n",
        "\n",
        "person_role = {}\n",
        "\n",
        "for song, sessions in song_sessions.items():\n",
        "    for session, name in sessions.items():\n",
        "        if name not in person_role:\n",
        "            person_role[name] = []\n",
        "        person_role[name].append((song, session))\n",
        "\n",
        "\n",
        "print(person_role)"
      ],
      "metadata": {
        "id": "7iFfkWRE5-km",
        "colab": {
          "base_uri": "https://localhost:8080/"
        },
        "outputId": "62d995d5-5816-476c-c4d2-590bedb5f790"
      },
      "execution_count": null,
      "outputs": [
        {
          "output_type": "stream",
          "name": "stdout",
          "text": [
            "{'오지원': [('Violet', '보컬'), ('Violet', '기타2')], '윤진경': [('Violet', '기타1')], '신정현': [('Violet', '베이스'), ('ride', '베이스')], '박수빈': [('Violet', '드럼'), ('ride', '드럼')], '곽민욱': [('ride', '보컬'), ('ride', '기타2')], '손호유': [('ride', '기타1')]}\n"
          ]
        }
      ]
    },
    {
      "cell_type": "code",
      "source": [
        "# datetime 객체 이용한 예시 데이터 (시간은 30분 단위)\n",
        "# 나중에 이 데이터들을 만드는 함수도 짜야 함 (프론트엔드)\n",
        "# Streamlit (파이썬 도구) 쓰면 될듯\n",
        "\n",
        "\n",
        "from datetime import datetime, timedelta\n",
        "\n",
        "persons_availability = {\n",
        "    '오지원': [\n",
        "        datetime(2025, 5, 13, 17, 00),\n",
        "        datetime(2025, 5, 13, 17, 30),\n",
        "        datetime(2025, 5, 13, 18, 00),\n",
        "        datetime(2025, 5, 13, 18, 30),\n",
        "        datetime(2025, 5, 13, 19, 00),\n",
        "        datetime(2025, 5, 13, 19, 30),\n",
        "    ],\n",
        "    '곽민욱': [\n",
        "        datetime(2025, 5, 15, 18, 00),\n",
        "        datetime(2025, 5, 15, 18, 30),\n",
        "        datetime(2025, 5, 15, 19, 00),\n",
        "        datetime(2025, 5, 15, 19, 30),\n",
        "\n",
        "    ],\n",
        "    '손호유': [\n",
        "        datetime(2025, 5, 13, 18, 00),\n",
        "        datetime(2025, 5, 13, 18, 30),\n",
        "        datetime(2025, 5, 13, 19, 00),\n",
        "        datetime(2025, 5, 13, 19, 30),\n",
        "    ],\n",
        "    '윤진경': [\n",
        "        datetime(2025, 5, 13, 18, 00),\n",
        "        datetime(2025, 5, 13, 18, 30),\n",
        "        datetime(2025, 5, 13, 19, 00),\n",
        "        datetime(2025, 5, 13, 19, 30),\n",
        "        datetime(2025, 5, 15, 18, 00),\n",
        "        datetime(2025, 5, 15, 18, 30),\n",
        "        datetime(2025, 5, 15, 19, 00),\n",
        "        datetime(2025, 5, 15, 19, 30),\n",
        "    ],\n",
        "    '박수빈': [\n",
        "        datetime(2025, 5, 15, 17, 00),\n",
        "        datetime(2025, 5, 15, 17, 30),\n",
        "        datetime(2025, 5, 15, 18, 00),\n",
        "        datetime(2025, 5, 15, 18, 30),\n",
        "        datetime(2025, 5, 15, 19, 00),\n",
        "        datetime(2025, 5, 15, 19, 30),\n",
        "    ],\n",
        "    '신정현': [\n",
        "        datetime(2025, 5, 13, 18, 00),\n",
        "        datetime(2025, 5, 13, 18, 30),\n",
        "        datetime(2025, 5, 13, 19, 00),\n",
        "        datetime(2025, 5, 13, 19, 30),\n",
        "        datetime(2025, 5, 13, 20, 00),\n",
        "        datetime(2025, 5, 13, 20, 30),\n",
        "    ]\n",
        "}\n",
        "\n",
        "base_schedule = [\n",
        "    datetime(2025, 5, 13, 17, 00),\n",
        "    datetime(2025, 5, 13, 18, 30),\n",
        "    datetime(2025, 5, 13, 18, 00),\n",
        "    datetime(2025, 5, 13, 18, 30),\n",
        "    datetime(2025, 5, 13, 19, 00),\n",
        "    datetime(2025, 5, 13, 19, 30),\n",
        "    datetime(2025, 5, 13, 20, 00),\n",
        "    datetime(2025, 5, 13, 20, 30),\n",
        "    datetime(2025, 5, 15, 17, 00),\n",
        "    datetime(2025, 5, 15, 17, 30),\n",
        "    datetime(2025, 5, 15, 18, 00),\n",
        "    datetime(2025, 5, 15, 18, 30),\n",
        "    datetime(2025, 5, 15, 19, 00),\n",
        "    datetime(2025, 5, 15, 19, 30),\n",
        "]\n",
        "\n",
        "#base_schedule의 시작하는 시간이랑 끝나는 시간 정한담에 30분 단위로 추가 될 수 있게 하는 반복문으로 해도 될 듯"
      ],
      "metadata": {
        "id": "kTQCiJc2I2Br"
      },
      "execution_count": null,
      "outputs": []
    },
    {
      "cell_type": "code",
      "source": [
        "# class Person 만들기\n",
        "# 속성: name, role, available_time\n",
        "\n",
        "class Person:\n",
        "  def __init__(self, name):\n",
        "    self.name = name\n",
        "    self.available_time = persons_availability[name]\n",
        "    self.role = person_role[name]\n",
        "\n",
        "  def print_person(self):\n",
        "    print(self.available_time)\n",
        "    print(self.role)\n",
        "\n",
        "\n",
        "people = []\n",
        "\n",
        "for name, _ in person_role.items():\n",
        "  if name not in people:\n",
        "    people.append(Person(name))\n",
        "\n",
        "for person in people:\n",
        "  print(person.name)\n",
        "  print(person.role)"
      ],
      "metadata": {
        "id": "VRHYTW-oMQZv",
        "outputId": "d3861538-cd2b-45ad-efe7-9065818eb1eb",
        "colab": {
          "base_uri": "https://localhost:8080/"
        }
      },
      "execution_count": null,
      "outputs": [
        {
          "output_type": "stream",
          "name": "stdout",
          "text": [
            "오지원\n",
            "[('Violet', '보컬'), ('Violet', '기타2')]\n",
            "윤진경\n",
            "[('Violet', '기타1')]\n",
            "신정현\n",
            "[('Violet', '베이스'), ('ride', '베이스')]\n",
            "박수빈\n",
            "[('Violet', '드럼'), ('ride', '드럼')]\n",
            "곽민욱\n",
            "[('ride', '보컬'), ('ride', '기타2')]\n",
            "손호유\n",
            "[('ride', '기타1')]\n"
          ]
        }
      ]
    },
    {
      "cell_type": "code",
      "source": [
        "# 곡별로 공통되는 시간대 찾기\n",
        "# (시간, 합주곡) 튜플 이용해서 표현하기\n",
        "\n",
        "from collections import defaultdict\n",
        "\n",
        "def Time_Find():\n",
        "\n",
        "  people_of_time = {}     # 공통되는 날짜 찾기\n",
        "\n",
        "  for time in base_schedule:\n",
        "    people_of_time[time] = []\n",
        "\n",
        "    for person in people:\n",
        "      if time in person.available_time:\n",
        "        for _ in person.role:\n",
        "          people_of_time[time].append(_)  # 시간에 해당하는 (곡, 세션) 튜플 추가\n",
        "\n",
        "  time_song_counts = {}\n",
        "\n",
        "  for time, _ in people_of_time.items():\n",
        "      song_count = defaultdict(int)\n",
        "\n",
        "      for song, role in _:\n",
        "          song_count[song] += 1\n",
        "\n",
        "      time_song_counts[time] = dict(song_count)\n",
        "\n",
        "  return time_song_counts\n",
        "\n",
        "Time_Find()"
      ],
      "metadata": {
        "id": "yVGIJYWDN4Tf",
        "outputId": "0a99d3e8-2a6a-4438-bfef-37a51486beaa",
        "colab": {
          "base_uri": "https://localhost:8080/"
        }
      },
      "execution_count": null,
      "outputs": [
        {
          "output_type": "execute_result",
          "data": {
            "text/plain": [
              "{datetime.datetime(2025, 5, 13, 17, 0): {'Violet': 2},\n",
              " datetime.datetime(2025, 5, 13, 18, 30): {'Violet': 4, 'ride': 2},\n",
              " datetime.datetime(2025, 5, 13, 18, 0): {'Violet': 4, 'ride': 2},\n",
              " datetime.datetime(2025, 5, 13, 19, 0): {'Violet': 4, 'ride': 2},\n",
              " datetime.datetime(2025, 5, 13, 19, 30): {'Violet': 4, 'ride': 2},\n",
              " datetime.datetime(2025, 5, 13, 20, 0): {'Violet': 1, 'ride': 1},\n",
              " datetime.datetime(2025, 5, 13, 20, 30): {'Violet': 1, 'ride': 1},\n",
              " datetime.datetime(2025, 5, 15, 17, 0): {'Violet': 1, 'ride': 1},\n",
              " datetime.datetime(2025, 5, 15, 17, 30): {'Violet': 1, 'ride': 1},\n",
              " datetime.datetime(2025, 5, 15, 18, 0): {'Violet': 2, 'ride': 3},\n",
              " datetime.datetime(2025, 5, 15, 18, 30): {'Violet': 2, 'ride': 3},\n",
              " datetime.datetime(2025, 5, 15, 19, 0): {'Violet': 2, 'ride': 3},\n",
              " datetime.datetime(2025, 5, 15, 19, 30): {'Violet': 2, 'ride': 3}}"
            ]
          },
          "metadata": {},
          "execution_count": 6
        }
      ]
    },
    {
      "cell_type": "code",
      "source": [],
      "metadata": {
        "id": "3SKMNkB44IUq"
      },
      "execution_count": null,
      "outputs": []
    },
    {
      "cell_type": "markdown",
      "source": [
        "# 타임테이블 - 인원수 기준 & 세션별 가중치"
      ],
      "metadata": {
        "id": "Qw4_Cl12f2uH"
      }
    },
    {
      "cell_type": "code",
      "source": [],
      "metadata": {
        "id": "kZeG2vlQ5ifc"
      },
      "execution_count": null,
      "outputs": []
    }
  ]
}