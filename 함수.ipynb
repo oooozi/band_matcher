{
  "cells": [
    {
      "cell_type": "markdown",
      "metadata": {
        "id": "L4Ox7ihW7TEK"
      },
      "source": [
        "# 데이터 입력 함수"
      ]
    },
    {
      "cell_type": "code",
      "execution_count": null,
      "metadata": {
        "id": "gP9QDM707a4O"
      },
      "outputs": [],
      "source": [
        "# 프론트로부터 입력받는 데이터 (JSON)\n",
        "\n",
        "import json\n",
        "from datetime import datetime\n",
        "from pathlib import Path\n",
        "\n",
        "# 파일 경로 설정\n",
        "DATA_DIR = Path.cwd() / \"mock_data\"\n",
        "SONG_SESSIONS_FILE = DATA_DIR / \"song_sessions.json\"\n",
        "PERSONS_AVAILABILITY_FILE = DATA_DIR / \"persons_availability.json\"\n",
        "BASE_SCHEDULE_FILE = DATA_DIR / \"base_schedule.json\"\n",
        "SESSION_WEIGHT_FILE = DATA_DIR / \"session_weight.json\"\n",
        "\n",
        "# 곡별 세션 정보 불러오기\n",
        "def load_song_sessions() -> dict:\n",
        "    with open(SONG_SESSIONS_FILE, \"r\", encoding=\"utf-8\") as f:\n",
        "        return json.load(f)\n",
        "\n",
        "# 사람별 가능한 시간 불러오기 (문자열 → datetime 변환)\n",
        "def load_persons_availability() -> dict:\n",
        "    with open(PERSONS_AVAILABILITY_FILE, \"r\", encoding=\"utf-8\") as f:\n",
        "        raw = json.load(f)\n",
        "        return {\n",
        "            name: [datetime.strptime(t, \"%Y-%m-%d %H:%M\") for t in times]\n",
        "            for name, times in raw.items()\n",
        "        }\n",
        "\n",
        "# 기준 스케줄 불러오기 (문자열 → datetime 변환)\n",
        "def load_base_schedule() -> list[datetime]:\n",
        "    with open(BASE_SCHEDULE_FILE, \"r\", encoding=\"utf-8\") as f:\n",
        "        times = json.load(f)\n",
        "        return [datetime.strptime(t, \"%Y-%m-%d %H:%M\") for t in times]\n",
        "\n",
        "# 세션별 가중치 불러오기\n",
        "def load_session_weight() -> dict:\n",
        "    with open(SESSION_WEIGHT_FILE, \"r\", encoding=\"utf-8\") as f:\n",
        "        return json.load(f)\n",
        "\n",
        "\n",
        "song_sessions = load_song_sessions()\n",
        "persons_availability = load_persons_availability()\n",
        "base_schedule = load_base_schedule()\n",
        "session_weight = load_session_weight()\n",
        "\n",
        "# 방 개수를 전역변수로 저장\n",
        "rooms = 3\n"
      ]
    },
    {
      "cell_type": "markdown",
      "metadata": {
        "id": "KGEcMwvcGNB6"
      },
      "source": [
        "# 타임테이블 - 인원수 기준 & 가중치\n"
      ]
    },
    {
      "cell_type": "code",
      "execution_count": 21,
      "metadata": {
        "colab": {
          "base_uri": "https://localhost:8080/"
        },
        "id": "Wbp8bC6hwqIe",
        "outputId": "61da3f62-8dbe-4e43-899f-e64a2c65b08d"
      },
      "outputs": [
        {
          "name": "stdout",
          "output_type": "stream",
          "text": [
            "{'오지원': [('Violet', '보컬'), ('Violet', '기타2'), ('불', '보컬')], '윤진경': [('Violet', '기타1'), ('Holiday', '기타2'), ('Antifreeze', '기타2')], '신정현': [('Violet', '베이스'), ('ride', '베이스'), ('Antifreeze', '베이스'), ('불', '베이스')], '박수빈': [('Violet', '드럼'), ('ride', '드럼')], '곽민욱': [('ride', '보컬'), ('ride', '기타2'), ('찬란', '기타1'), ('불', '기타1')], '손호유': [('ride', '기타1'), ('Antifreeze', '기타1'), ('찬란', '기타2')], '차희태': [('ride', '건반'), ('불', '건반')], '이상혁': [('Holiday', '보컬')], '이재욱': [('Holiday', '기타1')], '송채우': [('Holiday', '베이스'), ('찬란', '베이스')], '장희찬': [('Holiday', '드럼'), ('찬란', '드럼')], '김강현': [('Antifreeze', '보컬'), ('찬란', '보컬')], '김정태': [('Antifreeze', '건반'), ('찬란', '건반')], '함채경': [('Antifreeze', '드럼'), ('불', '드럼')]}\n"
          ]
        }
      ],
      "source": [
        "# sons_sessions(곡별 세션 정보)를 person_role(이름별 역할)로 정리한 딕셔너리 반환\n",
        "def make_person_role(song_sessions: dict) -> dict:\n",
        "    \n",
        "    person_role = {}\n",
        "    for song, sessions in song_sessions.items():\n",
        "        for session, name in sessions.items():\n",
        "            if name is None:\n",
        "                continue\n",
        "            if name not in person_role:\n",
        "                person_role[name] = []\n",
        "            person_role[name].append((song, session))\n",
        "    return person_role\n",
        "\n",
        "person_role = make_person_role(song_sessions)\n",
        "print(person_role)"
      ]
    },
    {
      "cell_type": "code",
      "execution_count": 25,
      "metadata": {
        "colab": {
          "base_uri": "https://localhost:8080/"
        },
        "id": "7ZLWRu5Lw2of",
        "outputId": "b428b236-4531-4b91-d7b4-ea339edb40f3"
      },
      "outputs": [
        {
          "name": "stdout",
          "output_type": "stream",
          "text": [
            "[Person(name=오지원, role=[('Violet', '보컬'), ('Violet', '기타2'), ('불', '보컬')], available_time=[datetime.datetime(2025, 5, 13, 17, 0), datetime.datetime(2025, 5, 13, 17, 30), datetime.datetime(2025, 5, 13, 18, 0), datetime.datetime(2025, 5, 13, 18, 30), datetime.datetime(2025, 5, 13, 19, 0), datetime.datetime(2025, 5, 13, 19, 30)]), Person(name=윤진경, role=[('Violet', '기타1'), ('Holiday', '기타2'), ('Antifreeze', '기타2')], available_time=[datetime.datetime(2025, 5, 13, 18, 0), datetime.datetime(2025, 5, 13, 18, 30), datetime.datetime(2025, 5, 13, 19, 0), datetime.datetime(2025, 5, 13, 19, 30), datetime.datetime(2025, 5, 15, 18, 0), datetime.datetime(2025, 5, 15, 18, 30), datetime.datetime(2025, 5, 15, 19, 0), datetime.datetime(2025, 5, 15, 19, 30)]), Person(name=신정현, role=[('Violet', '베이스'), ('ride', '베이스'), ('Antifreeze', '베이스'), ('불', '베이스')], available_time=[datetime.datetime(2025, 5, 13, 18, 0), datetime.datetime(2025, 5, 13, 18, 30), datetime.datetime(2025, 5, 13, 19, 0), datetime.datetime(2025, 5, 13, 19, 30), datetime.datetime(2025, 5, 13, 20, 0), datetime.datetime(2025, 5, 13, 20, 30)]), Person(name=박수빈, role=[('Violet', '드럼'), ('ride', '드럼')], available_time=[datetime.datetime(2025, 5, 15, 17, 0), datetime.datetime(2025, 5, 15, 17, 30), datetime.datetime(2025, 5, 15, 18, 0), datetime.datetime(2025, 5, 15, 18, 30), datetime.datetime(2025, 5, 15, 19, 0), datetime.datetime(2025, 5, 15, 19, 30)]), Person(name=곽민욱, role=[('ride', '보컬'), ('ride', '기타2'), ('찬란', '기타1'), ('불', '기타1')], available_time=[datetime.datetime(2025, 5, 15, 18, 0), datetime.datetime(2025, 5, 15, 18, 30), datetime.datetime(2025, 5, 15, 19, 0), datetime.datetime(2025, 5, 15, 19, 30)]), Person(name=손호유, role=[('ride', '기타1'), ('Antifreeze', '기타1'), ('찬란', '기타2')], available_time=[datetime.datetime(2025, 5, 13, 18, 0), datetime.datetime(2025, 5, 13, 18, 30), datetime.datetime(2025, 5, 13, 19, 0), datetime.datetime(2025, 5, 13, 19, 30)]), Person(name=차희태, role=[('ride', '건반'), ('불', '건반')], available_time=[]), Person(name=이상혁, role=[('Holiday', '보컬')], available_time=[datetime.datetime(2025, 5, 13, 19, 0), datetime.datetime(2025, 5, 13, 19, 30), datetime.datetime(2025, 5, 13, 20, 0)]), Person(name=이재욱, role=[('Holiday', '기타1')], available_time=[datetime.datetime(2025, 5, 13, 17, 0), datetime.datetime(2025, 5, 13, 17, 30), datetime.datetime(2025, 5, 13, 18, 0), datetime.datetime(2025, 5, 13, 18, 30)]), Person(name=송채우, role=[('Holiday', '베이스'), ('찬란', '베이스')], available_time=[datetime.datetime(2025, 5, 13, 18, 30), datetime.datetime(2025, 5, 13, 19, 0), datetime.datetime(2025, 5, 13, 19, 30), datetime.datetime(2025, 5, 13, 20, 0)]), Person(name=장희찬, role=[('Holiday', '드럼'), ('찬란', '드럼')], available_time=[datetime.datetime(2025, 5, 13, 18, 0), datetime.datetime(2025, 5, 13, 18, 30), datetime.datetime(2025, 5, 13, 19, 0)]), Person(name=김강현, role=[('Antifreeze', '보컬'), ('찬란', '보컬')], available_time=[datetime.datetime(2025, 5, 15, 18, 0), datetime.datetime(2025, 5, 15, 18, 30), datetime.datetime(2025, 5, 15, 19, 0)]), Person(name=김정태, role=[('Antifreeze', '건반'), ('찬란', '건반')], available_time=[datetime.datetime(2025, 5, 15, 19, 0), datetime.datetime(2025, 5, 15, 19, 30), datetime.datetime(2025, 5, 13, 20, 0)]), Person(name=함채경, role=[('Antifreeze', '드럼'), ('불', '드럼')], available_time=[datetime.datetime(2025, 5, 15, 18, 0), datetime.datetime(2025, 5, 15, 18, 30), datetime.datetime(2025, 5, 15, 19, 0), datetime.datetime(2025, 5, 15, 19, 30)])]\n"
          ]
        }
      ],
      "source": [
        "# class Person 만들기\n",
        "# 속성: name, role, available_time\n",
        "\n",
        "class Person:\n",
        "    def __init__(self, name, role, available_time):\n",
        "        self.name = name\n",
        "        self.role = role\n",
        "        self.available_time = available_time\n",
        "\n",
        "    def __repr__(self):\n",
        "        return f\"Person(name={self.name}, role={self.role}, available_time={self.available_time})\"\n",
        "\n",
        "\n",
        "def make_people(person_role: dict, persons_availability: dict) -> list:\n",
        "    people = []\n",
        "    \n",
        "    for name, roles in person_role.items():\n",
        "        available_time = persons_availability.get(name, [])  # 없으면 빈 리스트\n",
        "        person = Person(name, roles, available_time)\n",
        "        people.append(person)\n",
        "        \n",
        "    return people\n",
        "  \n",
        "people = make_people(person_role,persons_availability)\n",
        "print(people)"
      ]
    },
    {
      "cell_type": "code",
      "execution_count": null,
      "metadata": {
        "colab": {
          "base_uri": "https://localhost:8080/"
        },
        "id": "RUk9LDdMyHXF",
        "outputId": "0df9d3b3-6aa3-4384-b0c5-85734842fd0e"
      },
      "outputs": [
        {
          "name": "stdout",
          "output_type": "stream",
          "text": [
            "[(datetime.datetime(2025, 5, 13, 17, 0), 'Violet', 2, 6), (datetime.datetime(2025, 5, 13, 17, 0), '불', 1, 4), (datetime.datetime(2025, 5, 13, 17, 0), 'Holiday', 1, 8), (datetime.datetime(2025, 5, 13, 18, 30), 'Violet', 4, 16), (datetime.datetime(2025, 5, 13, 18, 30), '불', 2, 6), (datetime.datetime(2025, 5, 13, 18, 30), 'Holiday', 4, 28), (datetime.datetime(2025, 5, 13, 18, 30), 'Antifreeze', 3, 12), (datetime.datetime(2025, 5, 13, 18, 30), 'ride', 2, 10), (datetime.datetime(2025, 5, 13, 18, 30), '찬란', 3, 20), (datetime.datetime(2025, 5, 13, 18, 0), 'Violet', 4, 16), (datetime.datetime(2025, 5, 13, 18, 0), '불', 2, 6), (datetime.datetime(2025, 5, 13, 18, 0), 'Holiday', 3, 26), (datetime.datetime(2025, 5, 13, 18, 0), 'Antifreeze', 3, 12), (datetime.datetime(2025, 5, 13, 18, 0), 'ride', 2, 10), (datetime.datetime(2025, 5, 13, 18, 0), '찬란', 2, 18), (datetime.datetime(2025, 5, 13, 18, 30), 'Violet', 4, 16), (datetime.datetime(2025, 5, 13, 18, 30), '불', 2, 6), (datetime.datetime(2025, 5, 13, 18, 30), 'Holiday', 4, 28), (datetime.datetime(2025, 5, 13, 18, 30), 'Antifreeze', 3, 12), (datetime.datetime(2025, 5, 13, 18, 30), 'ride', 2, 10), (datetime.datetime(2025, 5, 13, 18, 30), '찬란', 3, 20), (datetime.datetime(2025, 5, 13, 19, 0), 'Violet', 4, 16), (datetime.datetime(2025, 5, 13, 19, 0), '불', 2, 6), (datetime.datetime(2025, 5, 13, 19, 0), 'Holiday', 4, 24), (datetime.datetime(2025, 5, 13, 19, 0), 'Antifreeze', 3, 12), (datetime.datetime(2025, 5, 13, 19, 0), 'ride', 2, 10), (datetime.datetime(2025, 5, 13, 19, 0), '찬란', 3, 20), (datetime.datetime(2025, 5, 13, 19, 30), 'Violet', 4, 16), (datetime.datetime(2025, 5, 13, 19, 30), '불', 2, 6), (datetime.datetime(2025, 5, 13, 19, 30), 'Holiday', 3, 8), (datetime.datetime(2025, 5, 13, 19, 30), 'Antifreeze', 3, 12), (datetime.datetime(2025, 5, 13, 19, 30), 'ride', 2, 10), (datetime.datetime(2025, 5, 13, 19, 30), '찬란', 2, 4), (datetime.datetime(2025, 5, 13, 20, 0), 'Violet', 1, 2), (datetime.datetime(2025, 5, 13, 20, 0), 'ride', 1, 2), (datetime.datetime(2025, 5, 13, 20, 0), 'Antifreeze', 2, 3), (datetime.datetime(2025, 5, 13, 20, 0), '불', 1, 2), (datetime.datetime(2025, 5, 13, 20, 0), 'Holiday', 2, 6), (datetime.datetime(2025, 5, 13, 20, 0), '찬란', 2, 3), (datetime.datetime(2025, 5, 13, 20, 30), 'Violet', 1, 2), (datetime.datetime(2025, 5, 13, 20, 30), 'ride', 1, 2), (datetime.datetime(2025, 5, 13, 20, 30), 'Antifreeze', 1, 2), (datetime.datetime(2025, 5, 13, 20, 30), '불', 1, 2), (datetime.datetime(2025, 5, 15, 17, 0), 'Violet', 1, 16), (datetime.datetime(2025, 5, 15, 17, 0), 'ride', 1, 16), (datetime.datetime(2025, 5, 15, 17, 30), 'Violet', 1, 16), (datetime.datetime(2025, 5, 15, 17, 30), 'ride', 1, 16), (datetime.datetime(2025, 5, 15, 18, 0), 'Violet', 2, 24), (datetime.datetime(2025, 5, 15, 18, 0), 'Holiday', 1, 2), (datetime.datetime(2025, 5, 15, 18, 0), 'Antifreeze', 3, 22), (datetime.datetime(2025, 5, 15, 18, 0), 'ride', 3, 22), (datetime.datetime(2025, 5, 15, 18, 0), '찬란', 2, 12), (datetime.datetime(2025, 5, 15, 18, 0), '불', 2, 24), (datetime.datetime(2025, 5, 15, 18, 30), 'Violet', 2, 24), (datetime.datetime(2025, 5, 15, 18, 30), 'Holiday', 1, 2), (datetime.datetime(2025, 5, 15, 18, 30), 'Antifreeze', 3, 22), (datetime.datetime(2025, 5, 15, 18, 30), 'ride', 3, 22), (datetime.datetime(2025, 5, 15, 18, 30), '찬란', 2, 12), (datetime.datetime(2025, 5, 15, 18, 30), '불', 2, 24), (datetime.datetime(2025, 5, 15, 19, 0), 'Violet', 2, 24), (datetime.datetime(2025, 5, 15, 19, 0), 'Holiday', 1, 2), (datetime.datetime(2025, 5, 15, 19, 0), 'Antifreeze', 4, 23), (datetime.datetime(2025, 5, 15, 19, 0), 'ride', 3, 22), (datetime.datetime(2025, 5, 15, 19, 0), '찬란', 3, 13), (datetime.datetime(2025, 5, 15, 19, 0), '불', 2, 24), (datetime.datetime(2025, 5, 15, 19, 30), 'Violet', 2, 24), (datetime.datetime(2025, 5, 15, 19, 30), 'Holiday', 1, 2), (datetime.datetime(2025, 5, 15, 19, 30), 'Antifreeze', 3, 19), (datetime.datetime(2025, 5, 15, 19, 30), 'ride', 3, 22), (datetime.datetime(2025, 5, 15, 19, 30), '찬란', 2, 9), (datetime.datetime(2025, 5, 15, 19, 30), '불', 2, 24)]\n"
          ]
        }
      ],
      "source": [
        "# 공통되는 시간w/가중치 찾기\n",
        "from collections import defaultdict\n",
        "def sort_time_list(base_schedule: list, people: list, session_weight: dict) -> list:\n",
        "\n",
        "    time_list = []\n",
        "\n",
        "    for time in base_schedule:\n",
        "        song_info = defaultdict(lambda: {'인원 수': 0, '가중치 합': 0})\n",
        "\n",
        "        for person in people:\n",
        "            if time in person.available_time:\n",
        "                for song, session in person.role:\n",
        "                    song_info[song]['인원 수'] += 1\n",
        "                    song_info[song]['가중치 합'] += session_weight.get(session, 0)\n",
        "\n",
        "        # song_info가 비어 있지 않으면 리스트에 튜플로 추가\n",
        "        for song, info in song_info.items():\n",
        "            time_list.append((time, song, info['인원 수'], info['가중치 합']))\n",
        "    \n",
        "    # result -> (시간, 곡, 인원수, 가중치) 튜플을 저장하는 리스트\n",
        "    return time_list\n",
        "\n",
        "time_list = sort_time_list(base_schedule, people, session_weight)\n",
        "print(time_list)"
      ]
    },
    {
      "cell_type": "code",
      "execution_count": null,
      "metadata": {
        "colab": {
          "base_uri": "https://localhost:8080/"
        },
        "id": "jAZOtW2K1zCG",
        "outputId": "b5a9598a-6d24-4071-9309-8795b2a25ed8"
      },
      "outputs": [
        {
          "name": "stdout",
          "output_type": "stream",
          "text": [
            "{datetime.datetime(2025, 5, 13, 17, 0): [('Holiday', 1, 8), ('Violet', 2, 6), ('불', 1, 4)], datetime.datetime(2025, 5, 13, 18, 0): [('Holiday', 3, 26), ('찬란', 2, 18), ('Violet', 4, 16)], datetime.datetime(2025, 5, 13, 18, 30): [('Holiday', 4, 28), ('Holiday', 4, 28), ('찬란', 3, 20)], datetime.datetime(2025, 5, 13, 19, 0): [('Holiday', 4, 24), ('찬란', 3, 20), ('Violet', 4, 16)], datetime.datetime(2025, 5, 13, 19, 30): [('Violet', 4, 16), ('Antifreeze', 3, 12), ('ride', 2, 10)], datetime.datetime(2025, 5, 13, 20, 0): [('Holiday', 2, 6), ('Antifreeze', 2, 3), ('찬란', 2, 3)], datetime.datetime(2025, 5, 13, 20, 30): [('Violet', 1, 2), ('ride', 1, 2), ('Antifreeze', 1, 2)], datetime.datetime(2025, 5, 15, 17, 0): [('Violet', 1, 16), ('ride', 1, 16)], datetime.datetime(2025, 5, 15, 17, 30): [('Violet', 1, 16), ('ride', 1, 16)], datetime.datetime(2025, 5, 15, 18, 0): [('Violet', 2, 24), ('불', 2, 24), ('Antifreeze', 3, 22)], datetime.datetime(2025, 5, 15, 18, 30): [('Violet', 2, 24), ('불', 2, 24), ('Antifreeze', 3, 22)], datetime.datetime(2025, 5, 15, 19, 0): [('Violet', 2, 24), ('불', 2, 24), ('Antifreeze', 4, 23)], datetime.datetime(2025, 5, 15, 19, 30): [('Violet', 2, 24), ('불', 2, 24), ('ride', 3, 22)]}\n"
          ]
        }
      ],
      "source": [
        "# 자동 스케줄링 with 인원 겹침 제거\n",
        "def assign_schedule(time_list: list, person_role: dict, rooms: int) -> dict:\n",
        "    schedule = defaultdict(list)  # time -> list of (song, count, weight)\n",
        "    assigned = set()  # (person, time) 중복 방지용\n",
        "\n",
        "    for time, song, count, weight in sorted(time_list, key=lambda x: (x[0], -x[3])):\n",
        "        if len(schedule[time]) >= rooms:\n",
        "            continue\n",
        "\n",
        "        conflict = False\n",
        "        for person, roles in person_role.items():\n",
        "            if (song, _) in roles:\n",
        "                if (person, time) in assigned:\n",
        "                    conflict = True\n",
        "                    break\n",
        "\n",
        "        if not conflict:\n",
        "            schedule[time].append((song, count, weight))\n",
        "            for person, roles in person_role.items():\n",
        "                if (song, _) in roles:\n",
        "                    assigned.add((person, time))\n",
        "\n",
        "    return dict(schedule)\n",
        "\n",
        "schedule = assign_schedule(time_list, person_role, rooms)\n",
        "print(schedule)"
      ]
    },
    {
      "cell_type": "code",
      "execution_count": null,
      "metadata": {},
      "outputs": [
        {
          "name": "stdout",
          "output_type": "stream",
          "text": [
            "{datetime.datetime(2025, 5, 13, 17, 0): [('Holiday', 1, 8), ('Violet', 2, 6), ('불', 1, 4)], datetime.datetime(2025, 5, 13, 18, 0): [('Holiday', 3, 26), ('찬란', 2, 18), ('Violet', 4, 16)], datetime.datetime(2025, 5, 13, 18, 30): [('Holiday', 4, 28), ('Holiday', 4, 28), ('찬란', 3, 20)], datetime.datetime(2025, 5, 13, 19, 0): [('Holiday', 4, 24), ('찬란', 3, 20), ('Violet', 4, 16)], datetime.datetime(2025, 5, 13, 19, 30): [('Violet', 4, 16), ('Antifreeze', 3, 12), ('ride', 2, 10)], datetime.datetime(2025, 5, 13, 20, 0): [('Holiday', 2, 6), ('Antifreeze', 2, 3), ('찬란', 2, 3)], datetime.datetime(2025, 5, 13, 20, 30): [('Violet', 1, 2), ('ride', 1, 2), ('Antifreeze', 1, 2)], datetime.datetime(2025, 5, 15, 17, 0): [('Violet', 1, 16), ('ride', 1, 16)], datetime.datetime(2025, 5, 15, 17, 30): [('Violet', 1, 16), ('ride', 1, 16)], datetime.datetime(2025, 5, 15, 18, 0): [('Violet', 2, 24), ('불', 2, 24), ('Antifreeze', 3, 22)], datetime.datetime(2025, 5, 15, 18, 30): [('Violet', 2, 24), ('불', 2, 24), ('Antifreeze', 3, 22)], datetime.datetime(2025, 5, 15, 19, 0): [('Violet', 2, 24), ('불', 2, 24), ('Antifreeze', 4, 23)], datetime.datetime(2025, 5, 15, 19, 30): [('Violet', 2, 24), ('불', 2, 24), ('ride', 3, 22)]}\n"
          ]
        }
      ],
      "source": [
        "# schedule에서 시간별 곡들을 가중치 내림차순으로 정렬\n",
        "def sort_schedule(schedule: dict) -> dict:\n",
        "    sorted_schedule = {}\n",
        "\n",
        "    for time, song_list in schedule.items():\n",
        "        sorted_list = sorted(song_list, key=lambda x: x[2], reverse=True)\n",
        "        sorted_schedule[time] = sorted_list\n",
        "\n",
        "    return sorted_schedule\n",
        "\n",
        "sorted_schedule = sort_schedule(schedule)\n",
        "print(sorted_schedule)"
      ]
    },
    {
      "cell_type": "code",
      "execution_count": 54,
      "metadata": {},
      "outputs": [
        {
          "name": "stdout",
          "output_type": "stream",
          "text": [
            "{datetime.datetime(2025, 5, 13, 17, 0): [{'Holiday': [['이재욱(기타1)'], ['윤진경(기타2)', '이상혁(보컬)', '송채우(베이스)', '장희찬(드럼)']]}, {'Violet': [['오지원(보컬)', '오지원(기타2)'], ['윤진경(기타1)', '신정현(베이스)', '박수빈(드럼)']]}, {'불': [['오지원(보컬)'], ['신정현(베이스)', '곽민욱(기타1)', '차희태(건반)', '함채경(드럼)']]}], datetime.datetime(2025, 5, 13, 18, 0): [{'Holiday': [['윤진경(기타2)', '이재욱(기타1)', '장희찬(드럼)'], ['이상혁(보컬)', '송채우(베이스)']]}, {'찬란': [['손호유(기타2)', '장희찬(드럼)'], ['곽민욱(기타1)', '송채우(베이스)', '김강현(보컬)', '김정태(건반)']]}, {'Violet': [['오지원(보컬)', '오지원(기타2)', '윤진경(기타1)', '신정현(베이스)'], ['박수빈(드럼)']]}], datetime.datetime(2025, 5, 13, 18, 30): [{'Holiday': [['윤진경(기타2)', '이재욱(기타1)', '송채우(베이스)', '장희찬(드럼)'], ['이상혁(보컬)']]}, {'Holiday': [['윤진경(기타2)', '이재욱(기타1)', '송채우(베이스)', '장희찬(드럼)'], ['이상혁(보컬)']]}, {'찬란': [['손호유(기타2)', '송채우(베이스)', '장희찬(드럼)'], ['곽민욱(기타1)', '김강현(보컬)', '김정태(건반)']]}], datetime.datetime(2025, 5, 13, 19, 0): [{'Holiday': [['윤진경(기타2)', '이상혁(보컬)', '송채우(베이스)', '장희찬(드럼)'], ['이재욱(기타1)']]}, {'찬란': [['손호유(기타2)', '송채우(베이스)', '장희찬(드럼)'], ['곽민욱(기타1)', '김강현(보컬)', '김정태(건반)']]}, {'Violet': [['오지원(보컬)', '오지원(기타2)', '윤진경(기타1)', '신정현(베이스)'], ['박수빈(드럼)']]}], datetime.datetime(2025, 5, 13, 19, 30): [{'Violet': [['오지원(보컬)', '오지원(기타2)', '윤진경(기타1)', '신정현(베이스)'], ['박수빈(드럼)']]}, {'Antifreeze': [['윤진경(기타2)', '신정현(베이스)', '손호유(기타1)'], ['김강현(보컬)', '김정태(건반)', '함채경(드럼)']]}, {'ride': [['신정현(베이스)', '손호유(기타1)'], ['박수빈(드럼)', '곽민욱(보컬)', '곽민욱(기타2)', '차희태(건반)']]}], datetime.datetime(2025, 5, 13, 20, 0): [{'Holiday': [['이상혁(보컬)', '송채우(베이스)'], ['윤진경(기타2)', '이재욱(기타1)', '장희찬(드럼)']]}, {'Antifreeze': [['신정현(베이스)', '김정태(건반)'], ['윤진경(기타2)', '손호유(기타1)', '김강현(보컬)', '함채경(드럼)']]}, {'찬란': [['송채우(베이스)', '김정태(건반)'], ['곽민욱(기타1)', '손호유(기타2)', '장희찬(드럼)', '김강현(보컬)']]}], datetime.datetime(2025, 5, 13, 20, 30): [{'Violet': [['신정현(베이스)'], ['오지원(보컬)', '오지원(기타2)', '윤진경(기타1)', '박수빈(드럼)']]}, {'ride': [['신정현(베이스)'], ['박수빈(드럼)', '곽민욱(보컬)', '곽민욱(기타2)', '손호유(기타1)', '차희태(건반)']]}, {'Antifreeze': [['신정현(베이스)'], ['윤진경(기타2)', '손호유(기타1)', '김강현(보컬)', '김정태(건반)', '함채경(드럼)']]}], datetime.datetime(2025, 5, 15, 17, 0): [{'Violet': [['박수빈(드럼)'], ['오지원(보컬)', '오지원(기타2)', '윤진경(기타1)', '신정현(베이스)']]}, {'ride': [['박수빈(드럼)'], ['신정현(베이스)', '곽민욱(보컬)', '곽민욱(기타2)', '손호유(기타1)', '차희태(건반)']]}], datetime.datetime(2025, 5, 15, 17, 30): [{'Violet': [['박수빈(드럼)'], ['오지원(보컬)', '오지원(기타2)', '윤진경(기타1)', '신정현(베이스)']]}, {'ride': [['박수빈(드럼)'], ['신정현(베이스)', '곽민욱(보컬)', '곽민욱(기타2)', '손호유(기타1)', '차희태(건반)']]}], datetime.datetime(2025, 5, 15, 18, 0): [{'Violet': [['윤진경(기타1)', '박수빈(드럼)'], ['오지원(보컬)', '오지원(기타2)', '신정현(베이스)']]}, {'불': [['곽민욱(기타1)', '함채경(드럼)'], ['오지원(보컬)', '신정현(베이스)', '차희태(건반)']]}, {'Antifreeze': [['윤진경(기타2)', '김강현(보컬)', '함채경(드럼)'], ['신정현(베이스)', '손호유(기타1)', '김정태(건반)']]}], datetime.datetime(2025, 5, 15, 18, 30): [{'Violet': [['윤진경(기타1)', '박수빈(드럼)'], ['오지원(보컬)', '오지원(기타2)', '신정현(베이스)']]}, {'불': [['곽민욱(기타1)', '함채경(드럼)'], ['오지원(보컬)', '신정현(베이스)', '차희태(건반)']]}, {'Antifreeze': [['윤진경(기타2)', '김강현(보컬)', '함채경(드럼)'], ['신정현(베이스)', '손호유(기타1)', '김정태(건반)']]}], datetime.datetime(2025, 5, 15, 19, 0): [{'Violet': [['윤진경(기타1)', '박수빈(드럼)'], ['오지원(보컬)', '오지원(기타2)', '신정현(베이스)']]}, {'불': [['곽민욱(기타1)', '함채경(드럼)'], ['오지원(보컬)', '신정현(베이스)', '차희태(건반)']]}, {'Antifreeze': [['윤진경(기타2)', '김강현(보컬)', '김정태(건반)', '함채경(드럼)'], ['신정현(베이스)', '손호유(기타1)']]}], datetime.datetime(2025, 5, 15, 19, 30): [{'Violet': [['윤진경(기타1)', '박수빈(드럼)'], ['오지원(보컬)', '오지원(기타2)', '신정현(베이스)']]}, {'불': [['곽민욱(기타1)', '함채경(드럼)'], ['오지원(보컬)', '신정현(베이스)', '차희태(건반)']]}, {'ride': [['박수빈(드럼)', '곽민욱(보컬)', '곽민욱(기타2)'], ['신정현(베이스)', '손호유(기타1)', '차희태(건반)']]}]}\n"
          ]
        }
      ],
      "source": [
        "# 어느 시간에 어떤 곡에 누가 참여하고 불참하는지 return하는 함수\n",
        "# 이 함수의 결과를 최종적으로 프론트로 보내게 됨!!\n",
        "def assign_schedule_participant(\n",
        "    schedule: dict,\n",
        "    person_role: dict,\n",
        "    persons_availability: dict\n",
        ") -> dict:\n",
        "    schedule_participant = {}\n",
        "\n",
        "    for time in sorted(schedule):\n",
        "        schedule_participant[time] = []\n",
        "\n",
        "        for song, _, _ in schedule[time]:\n",
        "            participants = []\n",
        "            absentees = []\n",
        "\n",
        "            for person, roles in person_role.items():\n",
        "                for s, session in roles:\n",
        "                    if s == song:\n",
        "                        entry = f\"{person}({session})\"\n",
        "                        if time in persons_availability.get(person, []):\n",
        "                            participants.append(entry)\n",
        "                        else:\n",
        "                            absentees.append(entry)\n",
        "\n",
        "            schedule_participant[time].append({\n",
        "                song: [participants, absentees] # 리스트[0] -> 참여자, 리스트[1] -> 불참자\n",
        "            })\n",
        "\n",
        "    return schedule_participant\n",
        "\n",
        "schedule_participant = assign_schedule_participant(sorted_schedule, person_role, persons_availability)\n",
        "print(schedule_participant)"
      ]
    },
    {
      "cell_type": "markdown",
      "metadata": {},
      "source": [
        "# 시각화 함수 (터미널 & 콘솔용)\n"
      ]
    },
    {
      "cell_type": "code",
      "execution_count": 52,
      "metadata": {},
      "outputs": [
        {
          "name": "stdout",
          "output_type": "stream",
          "text": [
            "[시간: 2025-05-13 17:00:00]\n",
            "  - Holiday\t| 인원 수: 1\t| 가중치: 8\n",
            "  - Violet\t| 인원 수: 2\t| 가중치: 6\n",
            "  - 불\t| 인원 수: 1\t| 가중치: 4\n",
            "\n",
            "[시간: 2025-05-13 18:00:00]\n",
            "  - Holiday\t| 인원 수: 3\t| 가중치: 26\n",
            "  - 찬란\t| 인원 수: 2\t| 가중치: 18\n",
            "  - Violet\t| 인원 수: 4\t| 가중치: 16\n",
            "\n",
            "[시간: 2025-05-13 18:30:00]\n",
            "  - Holiday\t| 인원 수: 4\t| 가중치: 28\n",
            "  - Holiday\t| 인원 수: 4\t| 가중치: 28\n",
            "  - 찬란\t| 인원 수: 3\t| 가중치: 20\n",
            "\n",
            "[시간: 2025-05-13 19:00:00]\n",
            "  - Holiday\t| 인원 수: 4\t| 가중치: 24\n",
            "  - 찬란\t| 인원 수: 3\t| 가중치: 20\n",
            "  - Violet\t| 인원 수: 4\t| 가중치: 16\n",
            "\n",
            "[시간: 2025-05-13 19:30:00]\n",
            "  - Violet\t| 인원 수: 4\t| 가중치: 16\n",
            "  - Antifreeze\t| 인원 수: 3\t| 가중치: 12\n",
            "  - ride\t| 인원 수: 2\t| 가중치: 10\n",
            "\n",
            "[시간: 2025-05-13 20:00:00]\n",
            "  - Holiday\t| 인원 수: 2\t| 가중치: 6\n",
            "  - Antifreeze\t| 인원 수: 2\t| 가중치: 3\n",
            "  - 찬란\t| 인원 수: 2\t| 가중치: 3\n",
            "\n",
            "[시간: 2025-05-13 20:30:00]\n",
            "  - Violet\t| 인원 수: 1\t| 가중치: 2\n",
            "  - ride\t| 인원 수: 1\t| 가중치: 2\n",
            "  - Antifreeze\t| 인원 수: 1\t| 가중치: 2\n",
            "\n",
            "[시간: 2025-05-15 17:00:00]\n",
            "  - Violet\t| 인원 수: 1\t| 가중치: 16\n",
            "  - ride\t| 인원 수: 1\t| 가중치: 16\n",
            "\n",
            "[시간: 2025-05-15 17:30:00]\n",
            "  - Violet\t| 인원 수: 1\t| 가중치: 16\n",
            "  - ride\t| 인원 수: 1\t| 가중치: 16\n",
            "\n",
            "[시간: 2025-05-15 18:00:00]\n",
            "  - Violet\t| 인원 수: 2\t| 가중치: 24\n",
            "  - 불\t| 인원 수: 2\t| 가중치: 24\n",
            "  - Antifreeze\t| 인원 수: 3\t| 가중치: 22\n",
            "\n",
            "[시간: 2025-05-15 18:30:00]\n",
            "  - Violet\t| 인원 수: 2\t| 가중치: 24\n",
            "  - 불\t| 인원 수: 2\t| 가중치: 24\n",
            "  - Antifreeze\t| 인원 수: 3\t| 가중치: 22\n",
            "\n",
            "[시간: 2025-05-15 19:00:00]\n",
            "  - Violet\t| 인원 수: 2\t| 가중치: 24\n",
            "  - 불\t| 인원 수: 2\t| 가중치: 24\n",
            "  - Antifreeze\t| 인원 수: 4\t| 가중치: 23\n",
            "\n",
            "[시간: 2025-05-15 19:30:00]\n",
            "  - Violet\t| 인원 수: 2\t| 가중치: 24\n",
            "  - 불\t| 인원 수: 2\t| 가중치: 24\n",
            "  - ride\t| 인원 수: 3\t| 가중치: 22\n",
            "\n",
            "\n"
          ]
        }
      ],
      "source": [
        "# 시각화 함수\n",
        "# 디버깅할 때 데이터 형태 확인용\n",
        "# 변수에는 schedule, sorted_schedule 사용 가능\n",
        "def visualize_schedule(schedule: dict) -> str:\n",
        "    result = \"\"\n",
        "    for time in sorted(schedule):\n",
        "        result += f\"[시간: {time}]\\n\"\n",
        "        for song, count, weight in schedule[time]:\n",
        "            result += f\"  - {song}\\t| 인원 수: {count}\\t| 가중치: {weight}\\n\"\n",
        "        result += \"\\n\"\n",
        "    return result\n",
        "\n",
        "print(visualize_schedule(sorted_schedule))"
      ]
    },
    {
      "cell_type": "code",
      "execution_count": 57,
      "metadata": {},
      "outputs": [
        {
          "name": "stdout",
          "output_type": "stream",
          "text": [
            "[시간: 2025-05-13 17:00:00]\n",
            "- Holiday\n",
            "  - 참여: 이재욱(기타1)\n",
            "  - 불참: 윤진경(기타2), 이상혁(보컬), 송채우(베이스), 장희찬(드럼)\n",
            "\n",
            "- Violet\n",
            "  - 참여: 오지원(보컬), 오지원(기타2)\n",
            "  - 불참: 윤진경(기타1), 신정현(베이스), 박수빈(드럼)\n",
            "\n",
            "- 불\n",
            "  - 참여: 오지원(보컬)\n",
            "  - 불참: 신정현(베이스), 곽민욱(기타1), 차희태(건반), 함채경(드럼)\n",
            "\n",
            "[시간: 2025-05-13 18:00:00]\n",
            "- Holiday\n",
            "  - 참여: 윤진경(기타2), 이재욱(기타1), 장희찬(드럼)\n",
            "  - 불참: 이상혁(보컬), 송채우(베이스)\n",
            "\n",
            "- 찬란\n",
            "  - 참여: 손호유(기타2), 장희찬(드럼)\n",
            "  - 불참: 곽민욱(기타1), 송채우(베이스), 김강현(보컬), 김정태(건반)\n",
            "\n",
            "- Violet\n",
            "  - 참여: 오지원(보컬), 오지원(기타2), 윤진경(기타1), 신정현(베이스)\n",
            "  - 불참: 박수빈(드럼)\n",
            "\n",
            "[시간: 2025-05-13 18:30:00]\n",
            "- Holiday\n",
            "  - 참여: 윤진경(기타2), 이재욱(기타1), 송채우(베이스), 장희찬(드럼)\n",
            "  - 불참: 이상혁(보컬)\n",
            "\n",
            "- Holiday\n",
            "  - 참여: 윤진경(기타2), 이재욱(기타1), 송채우(베이스), 장희찬(드럼)\n",
            "  - 불참: 이상혁(보컬)\n",
            "\n",
            "- 찬란\n",
            "  - 참여: 손호유(기타2), 송채우(베이스), 장희찬(드럼)\n",
            "  - 불참: 곽민욱(기타1), 김강현(보컬), 김정태(건반)\n",
            "\n",
            "[시간: 2025-05-13 19:00:00]\n",
            "- Holiday\n",
            "  - 참여: 윤진경(기타2), 이상혁(보컬), 송채우(베이스), 장희찬(드럼)\n",
            "  - 불참: 이재욱(기타1)\n",
            "\n",
            "- 찬란\n",
            "  - 참여: 손호유(기타2), 송채우(베이스), 장희찬(드럼)\n",
            "  - 불참: 곽민욱(기타1), 김강현(보컬), 김정태(건반)\n",
            "\n",
            "- Violet\n",
            "  - 참여: 오지원(보컬), 오지원(기타2), 윤진경(기타1), 신정현(베이스)\n",
            "  - 불참: 박수빈(드럼)\n",
            "\n",
            "[시간: 2025-05-13 19:30:00]\n",
            "- Violet\n",
            "  - 참여: 오지원(보컬), 오지원(기타2), 윤진경(기타1), 신정현(베이스)\n",
            "  - 불참: 박수빈(드럼)\n",
            "\n",
            "- Antifreeze\n",
            "  - 참여: 윤진경(기타2), 신정현(베이스), 손호유(기타1)\n",
            "  - 불참: 김강현(보컬), 김정태(건반), 함채경(드럼)\n",
            "\n",
            "- ride\n",
            "  - 참여: 신정현(베이스), 손호유(기타1)\n",
            "  - 불참: 박수빈(드럼), 곽민욱(보컬), 곽민욱(기타2), 차희태(건반)\n",
            "\n",
            "[시간: 2025-05-13 20:00:00]\n",
            "- Holiday\n",
            "  - 참여: 이상혁(보컬), 송채우(베이스)\n",
            "  - 불참: 윤진경(기타2), 이재욱(기타1), 장희찬(드럼)\n",
            "\n",
            "- Antifreeze\n",
            "  - 참여: 신정현(베이스), 김정태(건반)\n",
            "  - 불참: 윤진경(기타2), 손호유(기타1), 김강현(보컬), 함채경(드럼)\n",
            "\n",
            "- 찬란\n",
            "  - 참여: 송채우(베이스), 김정태(건반)\n",
            "  - 불참: 곽민욱(기타1), 손호유(기타2), 장희찬(드럼), 김강현(보컬)\n",
            "\n",
            "[시간: 2025-05-13 20:30:00]\n",
            "- Violet\n",
            "  - 참여: 신정현(베이스)\n",
            "  - 불참: 오지원(보컬), 오지원(기타2), 윤진경(기타1), 박수빈(드럼)\n",
            "\n",
            "- ride\n",
            "  - 참여: 신정현(베이스)\n",
            "  - 불참: 박수빈(드럼), 곽민욱(보컬), 곽민욱(기타2), 손호유(기타1), 차희태(건반)\n",
            "\n",
            "- Antifreeze\n",
            "  - 참여: 신정현(베이스)\n",
            "  - 불참: 윤진경(기타2), 손호유(기타1), 김강현(보컬), 김정태(건반), 함채경(드럼)\n",
            "\n",
            "[시간: 2025-05-15 17:00:00]\n",
            "- Violet\n",
            "  - 참여: 박수빈(드럼)\n",
            "  - 불참: 오지원(보컬), 오지원(기타2), 윤진경(기타1), 신정현(베이스)\n",
            "\n",
            "- ride\n",
            "  - 참여: 박수빈(드럼)\n",
            "  - 불참: 신정현(베이스), 곽민욱(보컬), 곽민욱(기타2), 손호유(기타1), 차희태(건반)\n",
            "\n",
            "[시간: 2025-05-15 17:30:00]\n",
            "- Violet\n",
            "  - 참여: 박수빈(드럼)\n",
            "  - 불참: 오지원(보컬), 오지원(기타2), 윤진경(기타1), 신정현(베이스)\n",
            "\n",
            "- ride\n",
            "  - 참여: 박수빈(드럼)\n",
            "  - 불참: 신정현(베이스), 곽민욱(보컬), 곽민욱(기타2), 손호유(기타1), 차희태(건반)\n",
            "\n",
            "[시간: 2025-05-15 18:00:00]\n",
            "- Violet\n",
            "  - 참여: 윤진경(기타1), 박수빈(드럼)\n",
            "  - 불참: 오지원(보컬), 오지원(기타2), 신정현(베이스)\n",
            "\n",
            "- 불\n",
            "  - 참여: 곽민욱(기타1), 함채경(드럼)\n",
            "  - 불참: 오지원(보컬), 신정현(베이스), 차희태(건반)\n",
            "\n",
            "- Antifreeze\n",
            "  - 참여: 윤진경(기타2), 김강현(보컬), 함채경(드럼)\n",
            "  - 불참: 신정현(베이스), 손호유(기타1), 김정태(건반)\n",
            "\n",
            "[시간: 2025-05-15 18:30:00]\n",
            "- Violet\n",
            "  - 참여: 윤진경(기타1), 박수빈(드럼)\n",
            "  - 불참: 오지원(보컬), 오지원(기타2), 신정현(베이스)\n",
            "\n",
            "- 불\n",
            "  - 참여: 곽민욱(기타1), 함채경(드럼)\n",
            "  - 불참: 오지원(보컬), 신정현(베이스), 차희태(건반)\n",
            "\n",
            "- Antifreeze\n",
            "  - 참여: 윤진경(기타2), 김강현(보컬), 함채경(드럼)\n",
            "  - 불참: 신정현(베이스), 손호유(기타1), 김정태(건반)\n",
            "\n",
            "[시간: 2025-05-15 19:00:00]\n",
            "- Violet\n",
            "  - 참여: 윤진경(기타1), 박수빈(드럼)\n",
            "  - 불참: 오지원(보컬), 오지원(기타2), 신정현(베이스)\n",
            "\n",
            "- 불\n",
            "  - 참여: 곽민욱(기타1), 함채경(드럼)\n",
            "  - 불참: 오지원(보컬), 신정현(베이스), 차희태(건반)\n",
            "\n",
            "- Antifreeze\n",
            "  - 참여: 윤진경(기타2), 김강현(보컬), 김정태(건반), 함채경(드럼)\n",
            "  - 불참: 신정현(베이스), 손호유(기타1)\n",
            "\n",
            "[시간: 2025-05-15 19:30:00]\n",
            "- Violet\n",
            "  - 참여: 윤진경(기타1), 박수빈(드럼)\n",
            "  - 불참: 오지원(보컬), 오지원(기타2), 신정현(베이스)\n",
            "\n",
            "- 불\n",
            "  - 참여: 곽민욱(기타1), 함채경(드럼)\n",
            "  - 불참: 오지원(보컬), 신정현(베이스), 차희태(건반)\n",
            "\n",
            "- ride\n",
            "  - 참여: 박수빈(드럼), 곽민욱(보컬), 곽민욱(기타2)\n",
            "  - 불참: 신정현(베이스), 손호유(기타1), 차희태(건반)\n",
            "\n",
            "\n"
          ]
        }
      ],
      "source": [
        "# schedule에서 시간마다 참여 가능한 사람들을 시각화하는 함수\n",
        "def visualize_participation(schedule_participant: dict) -> str:\n",
        "    result = \"\"\n",
        "\n",
        "    for time in sorted(schedule_participant):\n",
        "        result += f\"[시간: {time}]\\n\"\n",
        "        for song_entry in schedule_participant[time]:\n",
        "            for song, (participants, absentees) in song_entry.items():\n",
        "                participants = \", \".join(participants) if participants else \"없음\"\n",
        "                absentees = \", \".join(absentees) if absentees else \"없음\"\n",
        "\n",
        "                result += f\"- {song}\\n\"\n",
        "                result += f\"  - 참여: {participants}\\n\"\n",
        "                result += f\"  - 불참: {absentees}\\n\\n\"\n",
        "\n",
        "    return result\n",
        "\n",
        "\n",
        "print(visualize_participation(schedule_participant))"
      ]
    }
  ],
  "metadata": {
    "colab": {
      "collapsed_sections": [
        "KGEcMwvcGNB6",
        "Qw4_Cl12f2uH"
      ],
      "provenance": []
    },
    "kernelspec": {
      "display_name": "venv",
      "language": "python",
      "name": "python3"
    },
    "language_info": {
      "codemirror_mode": {
        "name": "ipython",
        "version": 3
      },
      "file_extension": ".py",
      "mimetype": "text/x-python",
      "name": "python",
      "nbconvert_exporter": "python",
      "pygments_lexer": "ipython3",
      "version": "3.12.2"
    }
  },
  "nbformat": 4,
  "nbformat_minor": 0
}
